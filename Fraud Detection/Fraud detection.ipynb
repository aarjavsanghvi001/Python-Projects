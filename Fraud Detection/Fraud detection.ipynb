{
 "cells": [
  {
   "cell_type": "code",
   "execution_count": 1,
   "id": "472132b7",
   "metadata": {},
   "outputs": [],
   "source": [
    "import pyforest\n",
    "from imblearn.over_sampling import SMOTE\n",
    "from sklearn.preprocessing import LabelEncoder\n",
    "from sklearn.utils import resample\n",
    "import missingno as msno"
   ]
  },
  {
   "cell_type": "code",
   "execution_count": 2,
   "id": "eec4c328",
   "metadata": {},
   "outputs": [
    {
     "data": {
      "application/javascript": [
       "\n",
       "        if (window._pyforest_update_imports_cell) { window._pyforest_update_imports_cell('import pandas as pd'); }\n",
       "    "
      ],
      "text/plain": [
       "<IPython.core.display.Javascript object>"
      ]
     },
     "metadata": {},
     "output_type": "display_data"
    }
   ],
   "source": [
    "df = pd.read_csv('/Users/aarjavsanghvi/Documents/datasets/stbt_fraud.csv')"
   ]
  },
  {
   "cell_type": "code",
   "execution_count": 3,
   "id": "95b92b2e",
   "metadata": {},
   "outputs": [
    {
     "data": {
      "application/javascript": [
       "\n",
       "        if (window._pyforest_update_imports_cell) { window._pyforest_update_imports_cell('import pandas as pd'); }\n",
       "    "
      ],
      "text/plain": [
       "<IPython.core.display.Javascript object>"
      ]
     },
     "metadata": {},
     "output_type": "display_data"
    }
   ],
   "source": [
    "df1 = pd.read_csv('/Users/aarjavsanghvi/Documents/datasets/stbt_active.csv')"
   ]
  },
  {
   "cell_type": "code",
   "execution_count": 4,
   "id": "7cf959d6",
   "metadata": {},
   "outputs": [
    {
     "data": {
      "text/plain": [
       "(2390, 20)"
      ]
     },
     "execution_count": 4,
     "metadata": {},
     "output_type": "execute_result"
    }
   ],
   "source": [
    "df.shape"
   ]
  },
  {
   "cell_type": "code",
   "execution_count": 5,
   "id": "49e7ac2d",
   "metadata": {},
   "outputs": [
    {
     "data": {
      "text/plain": [
       "(34415, 20)"
      ]
     },
     "execution_count": 5,
     "metadata": {},
     "output_type": "execute_result"
    }
   ],
   "source": [
    "df1.shape"
   ]
  },
  {
   "cell_type": "code",
   "execution_count": 6,
   "id": "6088f18f",
   "metadata": {},
   "outputs": [
    {
     "data": {
      "text/html": [
       "<div>\n",
       "<style scoped>\n",
       "    .dataframe tbody tr th:only-of-type {\n",
       "        vertical-align: middle;\n",
       "    }\n",
       "\n",
       "    .dataframe tbody tr th {\n",
       "        vertical-align: top;\n",
       "    }\n",
       "\n",
       "    .dataframe thead th {\n",
       "        text-align: right;\n",
       "    }\n",
       "</style>\n",
       "<table border=\"1\" class=\"dataframe\">\n",
       "  <thead>\n",
       "    <tr style=\"text-align: right;\">\n",
       "      <th></th>\n",
       "      <th>account_id</th>\n",
       "      <th>given_name</th>\n",
       "      <th>family_name</th>\n",
       "      <th>date_of_birth</th>\n",
       "      <th>created_at</th>\n",
       "      <th>status</th>\n",
       "      <th>country_of_citizenship</th>\n",
       "      <th>country_of_tax_residence</th>\n",
       "      <th>postal_code</th>\n",
       "      <th>state</th>\n",
       "      <th>street_address</th>\n",
       "      <th>ip_address</th>\n",
       "      <th>annual_income_min</th>\n",
       "      <th>annual_income_max</th>\n",
       "      <th>liquid_net_worth_max</th>\n",
       "      <th>liquid_net_worth_min</th>\n",
       "      <th>phone_number</th>\n",
       "      <th>employer</th>\n",
       "      <th>employer_address</th>\n",
       "      <th>position</th>\n",
       "    </tr>\n",
       "  </thead>\n",
       "  <tbody>\n",
       "    <tr>\n",
       "      <th>0</th>\n",
       "      <td>000defcc-4429-4a49-bd3f-e4d70238b5ae</td>\n",
       "      <td>Valentina</td>\n",
       "      <td>Gonzalez</td>\n",
       "      <td>1992-09-04</td>\n",
       "      <td>2021-12-16T15:02:04.578509-08:00</td>\n",
       "      <td>REJECTED</td>\n",
       "      <td>USA</td>\n",
       "      <td>USA</td>\n",
       "      <td>14605</td>\n",
       "      <td>NY</td>\n",
       "      <td>{\"219 Hebard St\"}</td>\n",
       "      <td>84.17.41.86</td>\n",
       "      <td>25000</td>\n",
       "      <td>99999</td>\n",
       "      <td>99999</td>\n",
       "      <td>25000</td>\n",
       "      <td>+1 5853513424</td>\n",
       "      <td>NaN</td>\n",
       "      <td>NaN</td>\n",
       "      <td>NaN</td>\n",
       "    </tr>\n",
       "    <tr>\n",
       "      <th>1</th>\n",
       "      <td>001d5e98-45f2-48e7-98c4-42507b1eaae8</td>\n",
       "      <td>Jason</td>\n",
       "      <td>Hughes</td>\n",
       "      <td>1984-11-04</td>\n",
       "      <td>2021-12-23T03:21:03.777897-08:00</td>\n",
       "      <td>REJECTED</td>\n",
       "      <td>USA</td>\n",
       "      <td>USA</td>\n",
       "      <td>79703</td>\n",
       "      <td>TX</td>\n",
       "      <td>{\"3415 Princeton Ave\"}</td>\n",
       "      <td>108.230.165.252</td>\n",
       "      <td>0</td>\n",
       "      <td>25000</td>\n",
       "      <td>25000</td>\n",
       "      <td>0</td>\n",
       "      <td>+1 7046946354</td>\n",
       "      <td>NaN</td>\n",
       "      <td>NaN</td>\n",
       "      <td>NaN</td>\n",
       "    </tr>\n",
       "    <tr>\n",
       "      <th>2</th>\n",
       "      <td>001f6d76-4d59-47f6-93c3-703b47c74b64</td>\n",
       "      <td>Tammy</td>\n",
       "      <td>Johnson</td>\n",
       "      <td>1968-09-20</td>\n",
       "      <td>2021-12-22T05:28:32.016668-08:00</td>\n",
       "      <td>REJECTED</td>\n",
       "      <td>USA</td>\n",
       "      <td>USA</td>\n",
       "      <td>48205</td>\n",
       "      <td>MI</td>\n",
       "      <td>{\"15650 Lappin Ave\"}</td>\n",
       "      <td>98.113.199.254</td>\n",
       "      <td>0</td>\n",
       "      <td>25000</td>\n",
       "      <td>25000</td>\n",
       "      <td>0</td>\n",
       "      <td>+1 2105989150</td>\n",
       "      <td>NaN</td>\n",
       "      <td>NaN</td>\n",
       "      <td>NaN</td>\n",
       "    </tr>\n",
       "    <tr>\n",
       "      <th>3</th>\n",
       "      <td>002025fe-6245-4aa2-866a-02645ed0f18f</td>\n",
       "      <td>William H</td>\n",
       "      <td>Shifflett Jr</td>\n",
       "      <td>1965-05-10</td>\n",
       "      <td>2021-12-08T09:02:06.72962-08:00</td>\n",
       "      <td>REJECTED</td>\n",
       "      <td>USA</td>\n",
       "      <td>USA</td>\n",
       "      <td>22827</td>\n",
       "      <td>VA</td>\n",
       "      <td>{\"1496 Mill Ln\"}</td>\n",
       "      <td>107.77.204.140</td>\n",
       "      <td>0</td>\n",
       "      <td>25000</td>\n",
       "      <td>25000</td>\n",
       "      <td>0</td>\n",
       "      <td>+1 5405609611</td>\n",
       "      <td>Self</td>\n",
       "      <td>1496 Mill Lane, Elkton, VA, USA</td>\n",
       "      <td>Labor</td>\n",
       "    </tr>\n",
       "    <tr>\n",
       "      <th>4</th>\n",
       "      <td>0020c424-326c-422d-8063-f1a77cfa4fa3</td>\n",
       "      <td>Linda</td>\n",
       "      <td>Johnson</td>\n",
       "      <td>1952-04-26</td>\n",
       "      <td>2021-12-22T13:17:49.275358-08:00</td>\n",
       "      <td>REJECTED</td>\n",
       "      <td>USA</td>\n",
       "      <td>USA</td>\n",
       "      <td>30344</td>\n",
       "      <td>GA</td>\n",
       "      <td>{\"3230 Dodson Drive Connector\"}</td>\n",
       "      <td>98.191.192.44</td>\n",
       "      <td>25000</td>\n",
       "      <td>99999</td>\n",
       "      <td>99999</td>\n",
       "      <td>25000</td>\n",
       "      <td>+1 2256205429</td>\n",
       "      <td>NaN</td>\n",
       "      <td>NaN</td>\n",
       "      <td>NaN</td>\n",
       "    </tr>\n",
       "  </tbody>\n",
       "</table>\n",
       "</div>"
      ],
      "text/plain": [
       "                             account_id given_name   family_name  \\\n",
       "0  000defcc-4429-4a49-bd3f-e4d70238b5ae  Valentina      Gonzalez   \n",
       "1  001d5e98-45f2-48e7-98c4-42507b1eaae8     Jason         Hughes   \n",
       "2  001f6d76-4d59-47f6-93c3-703b47c74b64     Tammy        Johnson   \n",
       "3  002025fe-6245-4aa2-866a-02645ed0f18f  William H  Shifflett Jr   \n",
       "4  0020c424-326c-422d-8063-f1a77cfa4fa3      Linda       Johnson   \n",
       "\n",
       "  date_of_birth                        created_at    status  \\\n",
       "0    1992-09-04  2021-12-16T15:02:04.578509-08:00  REJECTED   \n",
       "1    1984-11-04  2021-12-23T03:21:03.777897-08:00  REJECTED   \n",
       "2    1968-09-20  2021-12-22T05:28:32.016668-08:00  REJECTED   \n",
       "3    1965-05-10   2021-12-08T09:02:06.72962-08:00  REJECTED   \n",
       "4    1952-04-26  2021-12-22T13:17:49.275358-08:00  REJECTED   \n",
       "\n",
       "  country_of_citizenship country_of_tax_residence postal_code state  \\\n",
       "0                    USA                      USA       14605    NY   \n",
       "1                    USA                      USA       79703    TX   \n",
       "2                    USA                      USA       48205    MI   \n",
       "3                    USA                      USA       22827    VA   \n",
       "4                    USA                      USA       30344    GA   \n",
       "\n",
       "                    street_address       ip_address  annual_income_min  \\\n",
       "0                {\"219 Hebard St\"}      84.17.41.86              25000   \n",
       "1           {\"3415 Princeton Ave\"}  108.230.165.252                  0   \n",
       "2             {\"15650 Lappin Ave\"}   98.113.199.254                  0   \n",
       "3                 {\"1496 Mill Ln\"}   107.77.204.140                  0   \n",
       "4  {\"3230 Dodson Drive Connector\"}    98.191.192.44              25000   \n",
       "\n",
       "   annual_income_max  liquid_net_worth_max  liquid_net_worth_min  \\\n",
       "0              99999                 99999                 25000   \n",
       "1              25000                 25000                     0   \n",
       "2              25000                 25000                     0   \n",
       "3              25000                 25000                     0   \n",
       "4              99999                 99999                 25000   \n",
       "\n",
       "    phone_number employer                 employer_address position  \n",
       "0  +1 5853513424      NaN                              NaN      NaN  \n",
       "1  +1 7046946354      NaN                              NaN      NaN  \n",
       "2  +1 2105989150      NaN                              NaN      NaN  \n",
       "3  +1 5405609611     Self  1496 Mill Lane, Elkton, VA, USA    Labor  \n",
       "4  +1 2256205429      NaN                              NaN      NaN  "
      ]
     },
     "execution_count": 6,
     "metadata": {},
     "output_type": "execute_result"
    }
   ],
   "source": [
    "df.head()"
   ]
  },
  {
   "cell_type": "code",
   "execution_count": 7,
   "id": "a5c15e13",
   "metadata": {},
   "outputs": [
    {
     "data": {
      "text/html": [
       "<div>\n",
       "<style scoped>\n",
       "    .dataframe tbody tr th:only-of-type {\n",
       "        vertical-align: middle;\n",
       "    }\n",
       "\n",
       "    .dataframe tbody tr th {\n",
       "        vertical-align: top;\n",
       "    }\n",
       "\n",
       "    .dataframe thead th {\n",
       "        text-align: right;\n",
       "    }\n",
       "</style>\n",
       "<table border=\"1\" class=\"dataframe\">\n",
       "  <thead>\n",
       "    <tr style=\"text-align: right;\">\n",
       "      <th></th>\n",
       "      <th>account_id</th>\n",
       "      <th>given_name</th>\n",
       "      <th>family_name</th>\n",
       "      <th>date_of_birth</th>\n",
       "      <th>created_at</th>\n",
       "      <th>status</th>\n",
       "      <th>country_of_citizenship</th>\n",
       "      <th>country_of_tax_residence</th>\n",
       "      <th>postal_code</th>\n",
       "      <th>state</th>\n",
       "      <th>street_address</th>\n",
       "      <th>ip_address</th>\n",
       "      <th>annual_income_min</th>\n",
       "      <th>annual_income_max</th>\n",
       "      <th>liquid_net_worth_max</th>\n",
       "      <th>liquid_net_worth_min</th>\n",
       "      <th>phone_number</th>\n",
       "      <th>employer</th>\n",
       "      <th>employer_address</th>\n",
       "      <th>position</th>\n",
       "    </tr>\n",
       "  </thead>\n",
       "  <tbody>\n",
       "    <tr>\n",
       "      <th>0</th>\n",
       "      <td>0000fe49-eb5e-438d-994c-47c26c44e300</td>\n",
       "      <td>Linda Donata</td>\n",
       "      <td>Citro</td>\n",
       "      <td>2002-03-25</td>\n",
       "      <td>2022-01-25T08:35:05.246947-08:00</td>\n",
       "      <td>ACTIVE</td>\n",
       "      <td>ITA</td>\n",
       "      <td>ITA</td>\n",
       "      <td>84121</td>\n",
       "      <td>Campania</td>\n",
       "      <td>{\" Via Romualdo II Guarna\",29}</td>\n",
       "      <td>5.169.30.51</td>\n",
       "      <td>0.0</td>\n",
       "      <td>25000.0</td>\n",
       "      <td>25000.0</td>\n",
       "      <td>0.0</td>\n",
       "      <td>+393348207773</td>\n",
       "      <td>NaN</td>\n",
       "      <td>NaN</td>\n",
       "      <td>NaN</td>\n",
       "    </tr>\n",
       "    <tr>\n",
       "      <th>1</th>\n",
       "      <td>00086279-693a-482e-a10e-1013bf53c45a</td>\n",
       "      <td>Kayla Mae</td>\n",
       "      <td>Anderson</td>\n",
       "      <td>1987-11-24</td>\n",
       "      <td>2022-01-31T23:18:14.659265-08:00</td>\n",
       "      <td>ACTIVE</td>\n",
       "      <td>USA</td>\n",
       "      <td>USA</td>\n",
       "      <td>45204</td>\n",
       "      <td>OH</td>\n",
       "      <td>{\"3801 Hillside Ave\"}</td>\n",
       "      <td>172.58.160.225</td>\n",
       "      <td>0.0</td>\n",
       "      <td>25000.0</td>\n",
       "      <td>25000.0</td>\n",
       "      <td>0.0</td>\n",
       "      <td>+15133560513</td>\n",
       "      <td>Home Healthcare</td>\n",
       "      <td>1210 River Road, Cincinnati, OH, USA</td>\n",
       "      <td>Aid</td>\n",
       "    </tr>\n",
       "    <tr>\n",
       "      <th>2</th>\n",
       "      <td>000abdea-9f26-4495-b959-fcc86d9e39c8</td>\n",
       "      <td>Zachary Heath</td>\n",
       "      <td>Weger</td>\n",
       "      <td>1990-06-11</td>\n",
       "      <td>2022-01-23T01:02:46.765511-08:00</td>\n",
       "      <td>ACTIVE</td>\n",
       "      <td>USA</td>\n",
       "      <td>USA</td>\n",
       "      <td>73080</td>\n",
       "      <td>OK</td>\n",
       "      <td>{\"23899 State Hwy 74\"}</td>\n",
       "      <td>164.90.42.46</td>\n",
       "      <td>0.0</td>\n",
       "      <td>25000.0</td>\n",
       "      <td>25000.0</td>\n",
       "      <td>0.0</td>\n",
       "      <td>+15014638033</td>\n",
       "      <td>NaN</td>\n",
       "      <td>NaN</td>\n",
       "      <td>NaN</td>\n",
       "    </tr>\n",
       "    <tr>\n",
       "      <th>3</th>\n",
       "      <td>000e12d4-8d85-4f96-9b0d-63ea1fd557aa</td>\n",
       "      <td>Joshua Ray</td>\n",
       "      <td>Schaeffer</td>\n",
       "      <td>1995-06-16</td>\n",
       "      <td>2021-12-17T00:13:13.011071-08:00</td>\n",
       "      <td>ACTIVE</td>\n",
       "      <td>USA</td>\n",
       "      <td>USA</td>\n",
       "      <td>76048</td>\n",
       "      <td>TX</td>\n",
       "      <td>{\"1525 2nd St\",201}</td>\n",
       "      <td>2600:387:f:4536::3</td>\n",
       "      <td>0.0</td>\n",
       "      <td>25000.0</td>\n",
       "      <td>25000.0</td>\n",
       "      <td>0.0</td>\n",
       "      <td>+1 2547845278</td>\n",
       "      <td>NaN</td>\n",
       "      <td>NaN</td>\n",
       "      <td>NaN</td>\n",
       "    </tr>\n",
       "    <tr>\n",
       "      <th>4</th>\n",
       "      <td>000f5ec0-d2ee-43e1-bb31-4b5fd733a667</td>\n",
       "      <td>Matteo</td>\n",
       "      <td>Stucchi</td>\n",
       "      <td>1976-04-28</td>\n",
       "      <td>2022-01-29T02:22:52.608794-08:00</td>\n",
       "      <td>ACTIVE</td>\n",
       "      <td>ITA</td>\n",
       "      <td>ITA</td>\n",
       "      <td>47843</td>\n",
       "      <td>Emilia-Romagna</td>\n",
       "      <td>{\" Via Palestrina\",\"N 61\"}</td>\n",
       "      <td>87.19.187.42</td>\n",
       "      <td>25000.0</td>\n",
       "      <td>99999.0</td>\n",
       "      <td>25000.0</td>\n",
       "      <td>0.0</td>\n",
       "      <td>+393486604479</td>\n",
       "      <td>Hospital Ceccarini</td>\n",
       "      <td>Via Frosinone, 7, Riccione, Province of Rimini...</td>\n",
       "      <td>Paramedic</td>\n",
       "    </tr>\n",
       "  </tbody>\n",
       "</table>\n",
       "</div>"
      ],
      "text/plain": [
       "                             account_id     given_name family_name  \\\n",
       "0  0000fe49-eb5e-438d-994c-47c26c44e300   Linda Donata       Citro   \n",
       "1  00086279-693a-482e-a10e-1013bf53c45a      Kayla Mae   Anderson    \n",
       "2  000abdea-9f26-4495-b959-fcc86d9e39c8  Zachary Heath       Weger   \n",
       "3  000e12d4-8d85-4f96-9b0d-63ea1fd557aa     Joshua Ray   Schaeffer   \n",
       "4  000f5ec0-d2ee-43e1-bb31-4b5fd733a667         Matteo     Stucchi   \n",
       "\n",
       "  date_of_birth                        created_at  status  \\\n",
       "0    2002-03-25  2022-01-25T08:35:05.246947-08:00  ACTIVE   \n",
       "1    1987-11-24  2022-01-31T23:18:14.659265-08:00  ACTIVE   \n",
       "2    1990-06-11  2022-01-23T01:02:46.765511-08:00  ACTIVE   \n",
       "3    1995-06-16  2021-12-17T00:13:13.011071-08:00  ACTIVE   \n",
       "4    1976-04-28  2022-01-29T02:22:52.608794-08:00  ACTIVE   \n",
       "\n",
       "  country_of_citizenship country_of_tax_residence postal_code           state  \\\n",
       "0                    ITA                      ITA       84121        Campania   \n",
       "1                    USA                      USA       45204              OH   \n",
       "2                    USA                      USA       73080              OK   \n",
       "3                    USA                      USA       76048              TX   \n",
       "4                    ITA                      ITA       47843  Emilia-Romagna   \n",
       "\n",
       "                   street_address          ip_address  annual_income_min  \\\n",
       "0  {\" Via Romualdo II Guarna\",29}         5.169.30.51                0.0   \n",
       "1           {\"3801 Hillside Ave\"}      172.58.160.225                0.0   \n",
       "2          {\"23899 State Hwy 74\"}        164.90.42.46                0.0   \n",
       "3             {\"1525 2nd St\",201}  2600:387:f:4536::3                0.0   \n",
       "4      {\" Via Palestrina\",\"N 61\"}        87.19.187.42            25000.0   \n",
       "\n",
       "   annual_income_max  liquid_net_worth_max  liquid_net_worth_min  \\\n",
       "0            25000.0               25000.0                   0.0   \n",
       "1            25000.0               25000.0                   0.0   \n",
       "2            25000.0               25000.0                   0.0   \n",
       "3            25000.0               25000.0                   0.0   \n",
       "4            99999.0               25000.0                   0.0   \n",
       "\n",
       "    phone_number             employer  \\\n",
       "0  +393348207773                  NaN   \n",
       "1   +15133560513     Home Healthcare    \n",
       "2   +15014638033                  NaN   \n",
       "3  +1 2547845278                  NaN   \n",
       "4  +393486604479  Hospital Ceccarini    \n",
       "\n",
       "                                    employer_address   position  \n",
       "0                                                NaN        NaN  \n",
       "1               1210 River Road, Cincinnati, OH, USA        Aid  \n",
       "2                                                NaN        NaN  \n",
       "3                                                NaN        NaN  \n",
       "4  Via Frosinone, 7, Riccione, Province of Rimini...  Paramedic  "
      ]
     },
     "execution_count": 7,
     "metadata": {},
     "output_type": "execute_result"
    }
   ],
   "source": [
    "df1.head()"
   ]
  },
  {
   "cell_type": "code",
   "execution_count": 8,
   "id": "233c25e3",
   "metadata": {},
   "outputs": [
    {
     "name": "stdout",
     "output_type": "stream",
     "text": [
      "<class 'pandas.core.frame.DataFrame'>\n",
      "RangeIndex: 2390 entries, 0 to 2389\n",
      "Data columns (total 20 columns):\n",
      " #   Column                    Non-Null Count  Dtype \n",
      "---  ------                    --------------  ----- \n",
      " 0   account_id                2390 non-null   object\n",
      " 1   given_name                2390 non-null   object\n",
      " 2   family_name               2390 non-null   object\n",
      " 3   date_of_birth             2390 non-null   object\n",
      " 4   created_at                2390 non-null   object\n",
      " 5   status                    2390 non-null   object\n",
      " 6   country_of_citizenship    2390 non-null   object\n",
      " 7   country_of_tax_residence  2390 non-null   object\n",
      " 8   postal_code               2390 non-null   object\n",
      " 9   state                     2390 non-null   object\n",
      " 10  street_address            2390 non-null   object\n",
      " 11  ip_address                2390 non-null   object\n",
      " 12  annual_income_min         2390 non-null   int64 \n",
      " 13  annual_income_max         2390 non-null   int64 \n",
      " 14  liquid_net_worth_max      2390 non-null   int64 \n",
      " 15  liquid_net_worth_min      2390 non-null   int64 \n",
      " 16  phone_number              2390 non-null   object\n",
      " 17  employer                  1141 non-null   object\n",
      " 18  employer_address          1131 non-null   object\n",
      " 19  position                  1139 non-null   object\n",
      "dtypes: int64(4), object(16)\n",
      "memory usage: 373.6+ KB\n"
     ]
    }
   ],
   "source": [
    "df.info()"
   ]
  },
  {
   "cell_type": "code",
   "execution_count": 9,
   "id": "0ddae442",
   "metadata": {
    "scrolled": true
   },
   "outputs": [
    {
     "name": "stdout",
     "output_type": "stream",
     "text": [
      "<class 'pandas.core.frame.DataFrame'>\n",
      "RangeIndex: 34415 entries, 0 to 34414\n",
      "Data columns (total 20 columns):\n",
      " #   Column                    Non-Null Count  Dtype  \n",
      "---  ------                    --------------  -----  \n",
      " 0   account_id                34415 non-null  object \n",
      " 1   given_name                34415 non-null  object \n",
      " 2   family_name               34415 non-null  object \n",
      " 3   date_of_birth             34410 non-null  object \n",
      " 4   created_at                34415 non-null  object \n",
      " 5   status                    34415 non-null  object \n",
      " 6   country_of_citizenship    34410 non-null  object \n",
      " 7   country_of_tax_residence  34415 non-null  object \n",
      " 8   postal_code               34414 non-null  object \n",
      " 9   state                     34415 non-null  object \n",
      " 10  street_address            34415 non-null  object \n",
      " 11  ip_address                34410 non-null  object \n",
      " 12  annual_income_min         34401 non-null  float64\n",
      " 13  annual_income_max         34401 non-null  float64\n",
      " 14  liquid_net_worth_max      34401 non-null  float64\n",
      " 15  liquid_net_worth_min      34401 non-null  float64\n",
      " 16  phone_number              34415 non-null  object \n",
      " 17  employer                  15479 non-null  object \n",
      " 18  employer_address          15098 non-null  object \n",
      " 19  position                  15446 non-null  object \n",
      "dtypes: float64(4), object(16)\n",
      "memory usage: 5.3+ MB\n"
     ]
    }
   ],
   "source": [
    "df1.info()"
   ]
  },
  {
   "cell_type": "code",
   "execution_count": 10,
   "id": "90e2d5b5",
   "metadata": {},
   "outputs": [],
   "source": [
    "df.drop(['account_id','given_name','family_name','date_of_birth','status',\n",
    "         'country_of_citizenship','street_address','created_at','employer_address','phone_number'],\n",
    "        axis=1, inplace=True)"
   ]
  },
  {
   "cell_type": "code",
   "execution_count": 11,
   "id": "4b1b35ba",
   "metadata": {},
   "outputs": [],
   "source": [
    "df1.drop(['account_id','given_name','family_name','date_of_birth','status',\n",
    "          'country_of_citizenship','street_address','created_at','employer_address','phone_number'],\n",
    "         axis=1, inplace=True)"
   ]
  },
  {
   "cell_type": "code",
   "execution_count": 12,
   "id": "bdac5275",
   "metadata": {},
   "outputs": [
    {
     "data": {
      "text/plain": [
       "(2390, 10)"
      ]
     },
     "execution_count": 12,
     "metadata": {},
     "output_type": "execute_result"
    }
   ],
   "source": [
    "df.shape"
   ]
  },
  {
   "cell_type": "code",
   "execution_count": 13,
   "id": "d9a2775c",
   "metadata": {},
   "outputs": [
    {
     "data": {
      "text/plain": [
       "(34415, 10)"
      ]
     },
     "execution_count": 13,
     "metadata": {},
     "output_type": "execute_result"
    }
   ],
   "source": [
    "df1.shape"
   ]
  },
  {
   "cell_type": "code",
   "execution_count": 14,
   "id": "377d2865",
   "metadata": {},
   "outputs": [
    {
     "data": {
      "application/javascript": [
       "\n",
       "        if (window._pyforest_update_imports_cell) { window._pyforest_update_imports_cell('import pandas as pd'); }\n",
       "    "
      ],
      "text/plain": [
       "<IPython.core.display.Javascript object>"
      ]
     },
     "metadata": {},
     "output_type": "display_data"
    },
    {
     "name": "stdout",
     "output_type": "stream",
     "text": [
      "480\n"
     ]
    },
    {
     "data": {
      "application/javascript": [
       "\n",
       "        if (window._pyforest_update_imports_cell) { window._pyforest_update_imports_cell('import pandas as pd'); }\n",
       "    "
      ],
      "text/plain": [
       "<IPython.core.display.Javascript object>"
      ]
     },
     "metadata": {},
     "output_type": "display_data"
    },
    {
     "name": "stdout",
     "output_type": "stream",
     "text": [
      "320\n"
     ]
    }
   ],
   "source": [
    "print(len(pd.unique(df['employer'])))\n",
    "print(len(pd.unique(df['position'])))"
   ]
  },
  {
   "cell_type": "code",
   "execution_count": 15,
   "id": "fc3f2a1b",
   "metadata": {},
   "outputs": [
    {
     "data": {
      "text/plain": [
       "<AxesSubplot:>"
      ]
     },
     "execution_count": 15,
     "metadata": {},
     "output_type": "execute_result"
    },
    {
     "data": {
      "image/png": "[encoded data removed]",
      "text/plain": [
       "<Figure size 1800x720 with 2 Axes>"
      ]
     },
     "metadata": {
      "needs_background": "light"
     },
     "output_type": "display_data"
    }
   ],
   "source": [
    "msno.matrix(df)"
   ]
  },
  {
   "cell_type": "code",
   "execution_count": 16,
   "id": "a2430726",
   "metadata": {},
   "outputs": [],
   "source": [
    "df = df.ffill(axis=0)"
   ]
  },
  {
   "cell_type": "code",
   "execution_count": 17,
   "id": "cb7da7f9",
   "metadata": {},
   "outputs": [
    {
     "name": "stdout",
     "output_type": "stream",
     "text": [
      "<class 'pandas.core.frame.DataFrame'>\n",
      "RangeIndex: 2390 entries, 0 to 2389\n",
      "Data columns (total 10 columns):\n",
      " #   Column                    Non-Null Count  Dtype \n",
      "---  ------                    --------------  ----- \n",
      " 0   country_of_tax_residence  2390 non-null   object\n",
      " 1   postal_code               2390 non-null   object\n",
      " 2   state                     2390 non-null   object\n",
      " 3   ip_address                2390 non-null   object\n",
      " 4   annual_income_min         2390 non-null   int64 \n",
      " 5   annual_income_max         2390 non-null   int64 \n",
      " 6   liquid_net_worth_max      2390 non-null   int64 \n",
      " 7   liquid_net_worth_min      2390 non-null   int64 \n",
      " 8   employer                  2387 non-null   object\n",
      " 9   position                  2387 non-null   object\n",
      "dtypes: int64(4), object(6)\n",
      "memory usage: 186.8+ KB\n"
     ]
    }
   ],
   "source": [
    "df.info()"
   ]
  },
  {
   "cell_type": "code",
   "execution_count": 18,
   "id": "34da3593",
   "metadata": {},
   "outputs": [],
   "source": [
    "df_fraud = df.dropna()"
   ]
  },
  {
   "cell_type": "code",
   "execution_count": 19,
   "id": "c3fd6e6d",
   "metadata": {},
   "outputs": [],
   "source": [
    "df_active = df1.dropna()"
   ]
  },
  {
   "cell_type": "code",
   "execution_count": 20,
   "id": "634b7db8",
   "metadata": {
    "scrolled": true
   },
   "outputs": [
    {
     "data": {
      "text/plain": [
       "country_of_tax_residence  postal_code  state  ip_address  annual_income_min  annual_income_max  liquid_net_worth_max  liquid_net_worth_min  employer  position\n",
       "False                     False        False  False       False              False              False                 False                 False     False       2387\n",
       "dtype: int64"
      ]
     },
     "execution_count": 20,
     "metadata": {},
     "output_type": "execute_result"
    }
   ],
   "source": [
    "df_fraud.isna().value_counts()"
   ]
  },
  {
   "cell_type": "code",
   "execution_count": 21,
   "id": "bc43f980",
   "metadata": {},
   "outputs": [
    {
     "data": {
      "text/plain": [
       "country_of_tax_residence  postal_code  state  ip_address  annual_income_min  annual_income_max  liquid_net_worth_max  liquid_net_worth_min  employer  position\n",
       "False                     False        False  False       False              False              False                 False                 False     False       15426\n",
       "dtype: int64"
      ]
     },
     "execution_count": 21,
     "metadata": {},
     "output_type": "execute_result"
    }
   ],
   "source": [
    "df_active.isna().value_counts()"
   ]
  },
  {
   "cell_type": "code",
   "execution_count": 22,
   "id": "0adf8c58",
   "metadata": {},
   "outputs": [
    {
     "data": {
      "text/plain": [
       "(15426, 10)"
      ]
     },
     "execution_count": 22,
     "metadata": {},
     "output_type": "execute_result"
    }
   ],
   "source": [
    "df_active.shape"
   ]
  },
  {
   "cell_type": "code",
   "execution_count": 23,
   "id": "810c0ffe",
   "metadata": {},
   "outputs": [
    {
     "data": {
      "text/plain": [
       "(2387, 10)"
      ]
     },
     "execution_count": 23,
     "metadata": {},
     "output_type": "execute_result"
    }
   ],
   "source": [
    "df_fraud.shape"
   ]
  },
  {
   "cell_type": "code",
   "execution_count": 24,
   "id": "ca183c57",
   "metadata": {},
   "outputs": [],
   "source": [
    "df_fraud.insert(1,'class',1)\n",
    "df_active.insert(1,'class',0)"
   ]
  },
  {
   "cell_type": "code",
   "execution_count": 25,
   "id": "99f6e98e",
   "metadata": {
    "scrolled": true
   },
   "outputs": [
    {
     "name": "stdout",
     "output_type": "stream",
     "text": [
      "<class 'pandas.core.frame.DataFrame'>\n",
      "Int64Index: 2387 entries, 3 to 2389\n",
      "Data columns (total 11 columns):\n",
      " #   Column                    Non-Null Count  Dtype \n",
      "---  ------                    --------------  ----- \n",
      " 0   country_of_tax_residence  2387 non-null   object\n",
      " 1   class                     2387 non-null   int64 \n",
      " 2   postal_code               2387 non-null   object\n",
      " 3   state                     2387 non-null   object\n",
      " 4   ip_address                2387 non-null   object\n",
      " 5   annual_income_min         2387 non-null   int64 \n",
      " 6   annual_income_max         2387 non-null   int64 \n",
      " 7   liquid_net_worth_max      2387 non-null   int64 \n",
      " 8   liquid_net_worth_min      2387 non-null   int64 \n",
      " 9   employer                  2387 non-null   object\n",
      " 10  position                  2387 non-null   object\n",
      "dtypes: int64(5), object(6)\n",
      "memory usage: 223.8+ KB\n"
     ]
    }
   ],
   "source": [
    "df_fraud.info()"
   ]
  },
  {
   "cell_type": "code",
   "execution_count": 26,
   "id": "fa28f3fb",
   "metadata": {},
   "outputs": [
    {
     "data": {
      "text/html": [
       "<div>\n",
       "<style scoped>\n",
       "    .dataframe tbody tr th:only-of-type {\n",
       "        vertical-align: middle;\n",
       "    }\n",
       "\n",
       "    .dataframe tbody tr th {\n",
       "        vertical-align: top;\n",
       "    }\n",
       "\n",
       "    .dataframe thead th {\n",
       "        text-align: right;\n",
       "    }\n",
       "</style>\n",
       "<table border=\"1\" class=\"dataframe\">\n",
       "  <thead>\n",
       "    <tr style=\"text-align: right;\">\n",
       "      <th></th>\n",
       "      <th>country_of_tax_residence</th>\n",
       "      <th>class</th>\n",
       "      <th>postal_code</th>\n",
       "      <th>state</th>\n",
       "      <th>ip_address</th>\n",
       "      <th>annual_income_min</th>\n",
       "      <th>annual_income_max</th>\n",
       "      <th>liquid_net_worth_max</th>\n",
       "      <th>liquid_net_worth_min</th>\n",
       "      <th>employer</th>\n",
       "      <th>position</th>\n",
       "    </tr>\n",
       "  </thead>\n",
       "  <tbody>\n",
       "    <tr>\n",
       "      <th>3</th>\n",
       "      <td>USA</td>\n",
       "      <td>1</td>\n",
       "      <td>22827</td>\n",
       "      <td>VA</td>\n",
       "      <td>107.77.204.140</td>\n",
       "      <td>0</td>\n",
       "      <td>25000</td>\n",
       "      <td>25000</td>\n",
       "      <td>0</td>\n",
       "      <td>Self</td>\n",
       "      <td>Labor</td>\n",
       "    </tr>\n",
       "    <tr>\n",
       "      <th>4</th>\n",
       "      <td>USA</td>\n",
       "      <td>1</td>\n",
       "      <td>30344</td>\n",
       "      <td>GA</td>\n",
       "      <td>98.191.192.44</td>\n",
       "      <td>25000</td>\n",
       "      <td>99999</td>\n",
       "      <td>99999</td>\n",
       "      <td>25000</td>\n",
       "      <td>Self</td>\n",
       "      <td>Labor</td>\n",
       "    </tr>\n",
       "    <tr>\n",
       "      <th>5</th>\n",
       "      <td>USA</td>\n",
       "      <td>1</td>\n",
       "      <td>36108</td>\n",
       "      <td>AL</td>\n",
       "      <td>75.76.123.186</td>\n",
       "      <td>0</td>\n",
       "      <td>25000</td>\n",
       "      <td>25000</td>\n",
       "      <td>0</td>\n",
       "      <td>Self</td>\n",
       "      <td>Labor</td>\n",
       "    </tr>\n",
       "    <tr>\n",
       "      <th>6</th>\n",
       "      <td>USA</td>\n",
       "      <td>1</td>\n",
       "      <td>24148</td>\n",
       "      <td>VA</td>\n",
       "      <td>68.228.74.65</td>\n",
       "      <td>0</td>\n",
       "      <td>25000</td>\n",
       "      <td>25000</td>\n",
       "      <td>0</td>\n",
       "      <td>Self</td>\n",
       "      <td>Labor</td>\n",
       "    </tr>\n",
       "    <tr>\n",
       "      <th>7</th>\n",
       "      <td>USA</td>\n",
       "      <td>1</td>\n",
       "      <td>90303</td>\n",
       "      <td>CA</td>\n",
       "      <td>24.169.0.18</td>\n",
       "      <td>25000</td>\n",
       "      <td>99999</td>\n",
       "      <td>499999</td>\n",
       "      <td>100000</td>\n",
       "      <td>Suzanne Parks Company</td>\n",
       "      <td>Manager</td>\n",
       "    </tr>\n",
       "    <tr>\n",
       "      <th>...</th>\n",
       "      <td>...</td>\n",
       "      <td>...</td>\n",
       "      <td>...</td>\n",
       "      <td>...</td>\n",
       "      <td>...</td>\n",
       "      <td>...</td>\n",
       "      <td>...</td>\n",
       "      <td>...</td>\n",
       "      <td>...</td>\n",
       "      <td>...</td>\n",
       "      <td>...</td>\n",
       "    </tr>\n",
       "    <tr>\n",
       "      <th>2385</th>\n",
       "      <td>USA</td>\n",
       "      <td>1</td>\n",
       "      <td>36110</td>\n",
       "      <td>AL</td>\n",
       "      <td>24.17.244.81</td>\n",
       "      <td>25000</td>\n",
       "      <td>99999</td>\n",
       "      <td>499999</td>\n",
       "      <td>100000</td>\n",
       "      <td>Computer Repair</td>\n",
       "      <td>manager</td>\n",
       "    </tr>\n",
       "    <tr>\n",
       "      <th>2386</th>\n",
       "      <td>USA</td>\n",
       "      <td>1</td>\n",
       "      <td>77096</td>\n",
       "      <td>TX</td>\n",
       "      <td>207.182.85.109</td>\n",
       "      <td>25000</td>\n",
       "      <td>99999</td>\n",
       "      <td>99999</td>\n",
       "      <td>25000</td>\n",
       "      <td>Google</td>\n",
       "      <td>manager</td>\n",
       "    </tr>\n",
       "    <tr>\n",
       "      <th>2387</th>\n",
       "      <td>USA</td>\n",
       "      <td>1</td>\n",
       "      <td>77705</td>\n",
       "      <td>TX</td>\n",
       "      <td>92.119.177.20</td>\n",
       "      <td>0</td>\n",
       "      <td>25000</td>\n",
       "      <td>25000</td>\n",
       "      <td>0</td>\n",
       "      <td>Google</td>\n",
       "      <td>manager</td>\n",
       "    </tr>\n",
       "    <tr>\n",
       "      <th>2388</th>\n",
       "      <td>USA</td>\n",
       "      <td>1</td>\n",
       "      <td>16503</td>\n",
       "      <td>PA</td>\n",
       "      <td>108.74.223.205</td>\n",
       "      <td>0</td>\n",
       "      <td>25000</td>\n",
       "      <td>25000</td>\n",
       "      <td>0</td>\n",
       "      <td>Google</td>\n",
       "      <td>manager</td>\n",
       "    </tr>\n",
       "    <tr>\n",
       "      <th>2389</th>\n",
       "      <td>USA</td>\n",
       "      <td>1</td>\n",
       "      <td>95066</td>\n",
       "      <td>CA</td>\n",
       "      <td>74.62.95.186</td>\n",
       "      <td>100000</td>\n",
       "      <td>499999</td>\n",
       "      <td>499999</td>\n",
       "      <td>100000</td>\n",
       "      <td>KFC</td>\n",
       "      <td>Cleaner</td>\n",
       "    </tr>\n",
       "  </tbody>\n",
       "</table>\n",
       "<p>2387 rows × 11 columns</p>\n",
       "</div>"
      ],
      "text/plain": [
       "     country_of_tax_residence  class postal_code state      ip_address  \\\n",
       "3                         USA      1       22827    VA  107.77.204.140   \n",
       "4                         USA      1       30344    GA   98.191.192.44   \n",
       "5                         USA      1       36108    AL   75.76.123.186   \n",
       "6                         USA      1       24148    VA    68.228.74.65   \n",
       "7                         USA      1       90303    CA     24.169.0.18   \n",
       "...                       ...    ...         ...   ...             ...   \n",
       "2385                      USA      1       36110    AL    24.17.244.81   \n",
       "2386                      USA      1       77096    TX  207.182.85.109   \n",
       "2387                      USA      1       77705    TX   92.119.177.20   \n",
       "2388                      USA      1       16503    PA  108.74.223.205   \n",
       "2389                      USA      1       95066    CA    74.62.95.186   \n",
       "\n",
       "      annual_income_min  annual_income_max  liquid_net_worth_max  \\\n",
       "3                     0              25000                 25000   \n",
       "4                 25000              99999                 99999   \n",
       "5                     0              25000                 25000   \n",
       "6                     0              25000                 25000   \n",
       "7                 25000              99999                499999   \n",
       "...                 ...                ...                   ...   \n",
       "2385              25000              99999                499999   \n",
       "2386              25000              99999                 99999   \n",
       "2387                  0              25000                 25000   \n",
       "2388                  0              25000                 25000   \n",
       "2389             100000             499999                499999   \n",
       "\n",
       "      liquid_net_worth_min               employer position  \n",
       "3                        0                   Self    Labor  \n",
       "4                    25000                   Self    Labor  \n",
       "5                        0                   Self    Labor  \n",
       "6                        0                   Self    Labor  \n",
       "7                   100000  Suzanne Parks Company  Manager  \n",
       "...                    ...                    ...      ...  \n",
       "2385                100000        Computer Repair  manager  \n",
       "2386                 25000                 Google  manager  \n",
       "2387                     0                 Google  manager  \n",
       "2388                     0                 Google  manager  \n",
       "2389                100000                    KFC  Cleaner  \n",
       "\n",
       "[2387 rows x 11 columns]"
      ]
     },
     "execution_count": 26,
     "metadata": {},
     "output_type": "execute_result"
    }
   ],
   "source": [
    "df_fraud"
   ]
  },
  {
   "cell_type": "code",
   "execution_count": 27,
   "id": "7d936699",
   "metadata": {},
   "outputs": [
    {
     "name": "stdout",
     "output_type": "stream",
     "text": [
      "<class 'pandas.core.frame.DataFrame'>\n",
      "Int64Index: 15426 entries, 1 to 34412\n",
      "Data columns (total 11 columns):\n",
      " #   Column                    Non-Null Count  Dtype  \n",
      "---  ------                    --------------  -----  \n",
      " 0   country_of_tax_residence  15426 non-null  object \n",
      " 1   class                     15426 non-null  int64  \n",
      " 2   postal_code               15426 non-null  object \n",
      " 3   state                     15426 non-null  object \n",
      " 4   ip_address                15426 non-null  object \n",
      " 5   annual_income_min         15426 non-null  float64\n",
      " 6   annual_income_max         15426 non-null  float64\n",
      " 7   liquid_net_worth_max      15426 non-null  float64\n",
      " 8   liquid_net_worth_min      15426 non-null  float64\n",
      " 9   employer                  15426 non-null  object \n",
      " 10  position                  15426 non-null  object \n",
      "dtypes: float64(4), int64(1), object(6)\n",
      "memory usage: 1.4+ MB\n"
     ]
    }
   ],
   "source": [
    "df_active.info()"
   ]
  },
  {
   "cell_type": "code",
   "execution_count": 28,
   "id": "daf1053f",
   "metadata": {},
   "outputs": [],
   "source": [
    "#sm = SMOTE(sampling_strategy='minority', random_state=42)\n",
    "# Fit the model to generate the data.\n",
    "#oversampled_X, oversampled_Y = sm.fit_resample(df_fraud.drop('class', axis=1), df_fraud['class'])\n",
    "#oversampled = pd.concat([pd.DataFrame(oversampled_Y), pd.DataFrame(oversampled_X)], axis=1)"
   ]
  },
  {
   "cell_type": "code",
   "execution_count": 29,
   "id": "2d89bc21",
   "metadata": {},
   "outputs": [
    {
     "data": {
      "text/plain": [
       "(17813, 11)"
      ]
     },
     "execution_count": 29,
     "metadata": {},
     "output_type": "execute_result"
    }
   ],
   "source": [
    "df3 = df_fraud.append(df_active)\n",
    "df3.head()\n",
    "df3.shape"
   ]
  },
  {
   "cell_type": "code",
   "execution_count": 30,
   "id": "c0ee69e7",
   "metadata": {},
   "outputs": [
    {
     "data": {
      "application/javascript": [
       "\n",
       "        if (window._pyforest_update_imports_cell) { window._pyforest_update_imports_cell('import pandas as pd'); }\n",
       "    "
      ],
      "text/plain": [
       "<IPython.core.display.Javascript object>"
      ]
     },
     "metadata": {},
     "output_type": "display_data"
    }
   ],
   "source": [
    "#create two different dataframe of majority and minority class \n",
    "df_majority = df3[(df3['class']==0)] \n",
    "df_minority = df3[(df3['class']==1)] \n",
    "# upsample minority class\n",
    "df_minority_upsampled = resample(df_minority, \n",
    "                                 replace=True,    # sample with replacement\n",
    "                                 n_samples= 15426, # to match majority class\n",
    "                                 random_state=42)  # reproducible results\n",
    "# Combine majority class with upsampled minority class\n",
    "df_upsampled = pd.concat([df_minority_upsampled, df_majority])"
   ]
  },
  {
   "cell_type": "code",
   "execution_count": 31,
   "id": "fa43c630",
   "metadata": {},
   "outputs": [
    {
     "name": "stdout",
     "output_type": "stream",
     "text": [
      "<class 'pandas.core.frame.DataFrame'>\n",
      "Int64Index: 15426 entries, 863 to 1040\n",
      "Data columns (total 11 columns):\n",
      " #   Column                    Non-Null Count  Dtype  \n",
      "---  ------                    --------------  -----  \n",
      " 0   country_of_tax_residence  15426 non-null  object \n",
      " 1   class                     15426 non-null  int64  \n",
      " 2   postal_code               15426 non-null  object \n",
      " 3   state                     15426 non-null  object \n",
      " 4   ip_address                15426 non-null  object \n",
      " 5   annual_income_min         15426 non-null  float64\n",
      " 6   annual_income_max         15426 non-null  float64\n",
      " 7   liquid_net_worth_max      15426 non-null  float64\n",
      " 8   liquid_net_worth_min      15426 non-null  float64\n",
      " 9   employer                  15426 non-null  object \n",
      " 10  position                  15426 non-null  object \n",
      "dtypes: float64(4), int64(1), object(6)\n",
      "memory usage: 1.4+ MB\n",
      "None\n",
      "<class 'pandas.core.frame.DataFrame'>\n",
      "Int64Index: 15426 entries, 1 to 34412\n",
      "Data columns (total 11 columns):\n",
      " #   Column                    Non-Null Count  Dtype  \n",
      "---  ------                    --------------  -----  \n",
      " 0   country_of_tax_residence  15426 non-null  object \n",
      " 1   class                     15426 non-null  int64  \n",
      " 2   postal_code               15426 non-null  object \n",
      " 3   state                     15426 non-null  object \n",
      " 4   ip_address                15426 non-null  object \n",
      " 5   annual_income_min         15426 non-null  float64\n",
      " 6   annual_income_max         15426 non-null  float64\n",
      " 7   liquid_net_worth_max      15426 non-null  float64\n",
      " 8   liquid_net_worth_min      15426 non-null  float64\n",
      " 9   employer                  15426 non-null  object \n",
      " 10  position                  15426 non-null  object \n",
      "dtypes: float64(4), int64(1), object(6)\n",
      "memory usage: 1.4+ MB\n",
      "None\n"
     ]
    }
   ],
   "source": [
    "print(df_minority_upsampled.info())\n",
    "print(df_majority.info())"
   ]
  },
  {
   "cell_type": "code",
   "execution_count": 32,
   "id": "1d55f1b4",
   "metadata": {
    "scrolled": false
   },
   "outputs": [
    {
     "data": {
      "text/plain": [
       "15426"
      ]
     },
     "execution_count": 32,
     "metadata": {},
     "output_type": "execute_result"
    }
   ],
   "source": [
    "len(df_minority_upsampled)"
   ]
  },
  {
   "cell_type": "code",
   "execution_count": 34,
   "id": "df352a3c",
   "metadata": {
    "scrolled": true
   },
   "outputs": [],
   "source": [
    "labelencoder = LabelEncoder()\n",
    "df_upsampled['country_of_tax_residence'] = labelencoder.fit_transform(df_upsampled['country_of_tax_residence'])\n",
    "df_upsampled['state'] = labelencoder.fit_transform(df_upsampled['state'])\n",
    "df_upsampled['employer'] = labelencoder.fit_transform(df_upsampled['employer'])\n",
    "df_upsampled['position'] = labelencoder.fit_transform(df_upsampled['position'])\n",
    "df_upsampled['ip_address'] = labelencoder.fit_transform(df_upsampled['ip_address'])\n",
    "df_upsampled['postal_code'] = labelencoder.fit_transform(df_upsampled['postal_code'])"
   ]
  },
  {
   "cell_type": "code",
   "execution_count": 35,
   "id": "00cfc1d0",
   "metadata": {},
   "outputs": [
    {
     "name": "stdout",
     "output_type": "stream",
     "text": [
      "<class 'pandas.core.frame.DataFrame'>\n",
      "Int64Index: 30852 entries, 863 to 34412\n",
      "Data columns (total 11 columns):\n",
      " #   Column                    Non-Null Count  Dtype  \n",
      "---  ------                    --------------  -----  \n",
      " 0   country_of_tax_residence  30852 non-null  int64  \n",
      " 1   class                     30852 non-null  int64  \n",
      " 2   postal_code               30852 non-null  int64  \n",
      " 3   state                     30852 non-null  int64  \n",
      " 4   ip_address                30852 non-null  int64  \n",
      " 5   annual_income_min         30852 non-null  float64\n",
      " 6   annual_income_max         30852 non-null  float64\n",
      " 7   liquid_net_worth_max      30852 non-null  float64\n",
      " 8   liquid_net_worth_min      30852 non-null  float64\n",
      " 9   employer                  30852 non-null  int64  \n",
      " 10  position                  30852 non-null  int64  \n",
      "dtypes: float64(4), int64(7)\n",
      "memory usage: 2.8 MB\n"
     ]
    }
   ],
   "source": [
    "df_upsampled.info()"
   ]
  },
  {
   "cell_type": "code",
   "execution_count": 36,
   "id": "6d3de22c",
   "metadata": {},
   "outputs": [
    {
     "data": {
      "text/plain": [
       "country_of_tax_residence       27\n",
       "class                           2\n",
       "postal_code                  9264\n",
       "state                         486\n",
       "ip_address                  14901\n",
       "annual_income_min               5\n",
       "annual_income_max               5\n",
       "liquid_net_worth_max            5\n",
       "liquid_net_worth_min            5\n",
       "employer                    11451\n",
       "position                     5881\n",
       "dtype: int64"
      ]
     },
     "execution_count": 36,
     "metadata": {},
     "output_type": "execute_result"
    }
   ],
   "source": [
    "df_upsampled.nunique(axis=0)"
   ]
  },
  {
   "cell_type": "code",
   "execution_count": 37,
   "id": "b00777b4",
   "metadata": {},
   "outputs": [],
   "source": [
    "X = df_upsampled.loc[:, df3.columns!='class']\n",
    "y = df_upsampled['class']\n",
    "\n",
    "# Break off validation set from training data\n",
    "from sklearn.model_selection import train_test_split\n",
    "X_train, X_valid, y_train, y_valid = train_test_split(X, y, train_size=0.7, test_size=0.3, random_state=0)"
   ]
  },
  {
   "cell_type": "code",
   "execution_count": 43,
   "id": "802d9b28",
   "metadata": {},
   "outputs": [],
   "source": [
    "from sklearn.metrics import classification_report, confusion_matrix\n",
    "from sklearn.model_selection import RandomizedSearchCV\n",
    "import xgboost"
   ]
  },
  {
   "cell_type": "code",
   "execution_count": 44,
   "id": "979d41ad",
   "metadata": {},
   "outputs": [],
   "source": [
    "#Hyper parameter optimization\n",
    "params={\n",
    "   \"learning_rate\": [0.05, 0.10, 0.15, 0.20, 0.25, 0.30],\n",
    "    \"max_depth\": [5,6,7,8,9,10,11,12,13,14,15,16,17,18,19,20],\n",
    "    \"min_child_weight\": [1,3,5,7,9],\n",
    "    \"gamma\": [0.0, 0.1, 0.2, 0.3, 0.4],\n",
    "    \"colsample_bytree\": [0.3, 0.4, 0.5, 0.6, 0.7]\n",
    "}"
   ]
  },
  {
   "cell_type": "code",
   "execution_count": 45,
   "id": "6439590a",
   "metadata": {},
   "outputs": [],
   "source": [
    "classifier=xgboost.XGBClassifier()"
   ]
  },
  {
   "cell_type": "code",
   "execution_count": 46,
   "id": "d43630cc",
   "metadata": {},
   "outputs": [],
   "source": [
    "random_search=RandomizedSearchCV(classifier, param_distributions=params, n_iter=5, n_jobs=-1, cv=5,verbose=0)"
   ]
  },
  {
   "cell_type": "code",
   "execution_count": 47,
   "id": "1d1822b0",
   "metadata": {},
   "outputs": [
    {
     "name": "stderr",
     "output_type": "stream",
     "text": [
      "/Users/aarjavsanghvi/opt/anaconda3/lib/python3.9/site-packages/xgboost/sklearn.py:1224: UserWarning: The use of label encoder in XGBClassifier is deprecated and will be removed in a future release. To remove this warning, do the following: 1) Pass option use_label_encoder=False when constructing XGBClassifier object; and 2) Encode your labels (y) as integers starting with 0, i.e. 0, 1, 2, ..., [num_class - 1].\n",
      "  warnings.warn(label_encoder_deprecation_msg, UserWarning)\n",
      "/Users/aarjavsanghvi/opt/anaconda3/lib/python3.9/site-packages/xgboost/sklearn.py:1224: UserWarning: The use of label encoder in XGBClassifier is deprecated and will be removed in a future release. To remove this warning, do the following: 1) Pass option use_label_encoder=False when constructing XGBClassifier object; and 2) Encode your labels (y) as integers starting with 0, i.e. 0, 1, 2, ..., [num_class - 1].\n",
      "  warnings.warn(label_encoder_deprecation_msg, UserWarning)\n",
      "/Users/aarjavsanghvi/opt/anaconda3/lib/python3.9/site-packages/xgboost/sklearn.py:1224: UserWarning: The use of label encoder in XGBClassifier is deprecated and will be removed in a future release. To remove this warning, do the following: 1) Pass option use_label_encoder=False when constructing XGBClassifier object; and 2) Encode your labels (y) as integers starting with 0, i.e. 0, 1, 2, ..., [num_class - 1].\n",
      "  warnings.warn(label_encoder_deprecation_msg, UserWarning)\n",
      "/Users/aarjavsanghvi/opt/anaconda3/lib/python3.9/site-packages/xgboost/sklearn.py:1224: UserWarning: The use of label encoder in XGBClassifier is deprecated and will be removed in a future release. To remove this warning, do the following: 1) Pass option use_label_encoder=False when constructing XGBClassifier object; and 2) Encode your labels (y) as integers starting with 0, i.e. 0, 1, 2, ..., [num_class - 1].\n",
      "  warnings.warn(label_encoder_deprecation_msg, UserWarning)\n",
      "/Users/aarjavsanghvi/opt/anaconda3/lib/python3.9/site-packages/xgboost/sklearn.py:1224: UserWarning: The use of label encoder in XGBClassifier is deprecated and will be removed in a future release. To remove this warning, do the following: 1) Pass option use_label_encoder=False when constructing XGBClassifier object; and 2) Encode your labels (y) as integers starting with 0, i.e. 0, 1, 2, ..., [num_class - 1].\n",
      "  warnings.warn(label_encoder_deprecation_msg, UserWarning)\n",
      "/Users/aarjavsanghvi/opt/anaconda3/lib/python3.9/site-packages/xgboost/sklearn.py:1224: UserWarning: The use of label encoder in XGBClassifier is deprecated and will be removed in a future release. To remove this warning, do the following: 1) Pass option use_label_encoder=False when constructing XGBClassifier object; and 2) Encode your labels (y) as integers starting with 0, i.e. 0, 1, 2, ..., [num_class - 1].\n",
      "  warnings.warn(label_encoder_deprecation_msg, UserWarning)\n",
      "/Users/aarjavsanghvi/opt/anaconda3/lib/python3.9/site-packages/xgboost/sklearn.py:1224: UserWarning: The use of label encoder in XGBClassifier is deprecated and will be removed in a future release. To remove this warning, do the following: 1) Pass option use_label_encoder=False when constructing XGBClassifier object; and 2) Encode your labels (y) as integers starting with 0, i.e. 0, 1, 2, ..., [num_class - 1].\n",
      "  warnings.warn(label_encoder_deprecation_msg, UserWarning)\n",
      "/Users/aarjavsanghvi/opt/anaconda3/lib/python3.9/site-packages/xgboost/sklearn.py:1224: UserWarning: The use of label encoder in XGBClassifier is deprecated and will be removed in a future release. To remove this warning, do the following: 1) Pass option use_label_encoder=False when constructing XGBClassifier object; and 2) Encode your labels (y) as integers starting with 0, i.e. 0, 1, 2, ..., [num_class - 1].\n",
      "  warnings.warn(label_encoder_deprecation_msg, UserWarning)\n",
      "/Users/aarjavsanghvi/opt/anaconda3/lib/python3.9/site-packages/xgboost/sklearn.py:1224: UserWarning: The use of label encoder in XGBClassifier is deprecated and will be removed in a future release. To remove this warning, do the following: 1) Pass option use_label_encoder=False when constructing XGBClassifier object; and 2) Encode your labels (y) as integers starting with 0, i.e. 0, 1, 2, ..., [num_class - 1].\n",
      "  warnings.warn(label_encoder_deprecation_msg, UserWarning)\n",
      "/Users/aarjavsanghvi/opt/anaconda3/lib/python3.9/site-packages/xgboost/sklearn.py:1224: UserWarning: The use of label encoder in XGBClassifier is deprecated and will be removed in a future release. To remove this warning, do the following: 1) Pass option use_label_encoder=False when constructing XGBClassifier object; and 2) Encode your labels (y) as integers starting with 0, i.e. 0, 1, 2, ..., [num_class - 1].\n",
      "  warnings.warn(label_encoder_deprecation_msg, UserWarning)\n",
      "/Users/aarjavsanghvi/opt/anaconda3/lib/python3.9/site-packages/xgboost/sklearn.py:1224: UserWarning: The use of label encoder in XGBClassifier is deprecated and will be removed in a future release. To remove this warning, do the following: 1) Pass option use_label_encoder=False when constructing XGBClassifier object; and 2) Encode your labels (y) as integers starting with 0, i.e. 0, 1, 2, ..., [num_class - 1].\n",
      "  warnings.warn(label_encoder_deprecation_msg, UserWarning)\n",
      "/Users/aarjavsanghvi/opt/anaconda3/lib/python3.9/site-packages/xgboost/sklearn.py:1224: UserWarning: The use of label encoder in XGBClassifier is deprecated and will be removed in a future release. To remove this warning, do the following: 1) Pass option use_label_encoder=False when constructing XGBClassifier object; and 2) Encode your labels (y) as integers starting with 0, i.e. 0, 1, 2, ..., [num_class - 1].\n",
      "  warnings.warn(label_encoder_deprecation_msg, UserWarning)\n",
      "/Users/aarjavsanghvi/opt/anaconda3/lib/python3.9/site-packages/xgboost/sklearn.py:1224: UserWarning: The use of label encoder in XGBClassifier is deprecated and will be removed in a future release. To remove this warning, do the following: 1) Pass option use_label_encoder=False when constructing XGBClassifier object; and 2) Encode your labels (y) as integers starting with 0, i.e. 0, 1, 2, ..., [num_class - 1].\n",
      "  warnings.warn(label_encoder_deprecation_msg, UserWarning)\n",
      "/Users/aarjavsanghvi/opt/anaconda3/lib/python3.9/site-packages/xgboost/sklearn.py:1224: UserWarning: The use of label encoder in XGBClassifier is deprecated and will be removed in a future release. To remove this warning, do the following: 1) Pass option use_label_encoder=False when constructing XGBClassifier object; and 2) Encode your labels (y) as integers starting with 0, i.e. 0, 1, 2, ..., [num_class - 1].\n",
      "  warnings.warn(label_encoder_deprecation_msg, UserWarning)\n",
      "/Users/aarjavsanghvi/opt/anaconda3/lib/python3.9/site-packages/xgboost/sklearn.py:1224: UserWarning: The use of label encoder in XGBClassifier is deprecated and will be removed in a future release. To remove this warning, do the following: 1) Pass option use_label_encoder=False when constructing XGBClassifier object; and 2) Encode your labels (y) as integers starting with 0, i.e. 0, 1, 2, ..., [num_class - 1].\n",
      "  warnings.warn(label_encoder_deprecation_msg, UserWarning)\n",
      "/Users/aarjavsanghvi/opt/anaconda3/lib/python3.9/site-packages/xgboost/sklearn.py:1224: UserWarning: The use of label encoder in XGBClassifier is deprecated and will be removed in a future release. To remove this warning, do the following: 1) Pass option use_label_encoder=False when constructing XGBClassifier object; and 2) Encode your labels (y) as integers starting with 0, i.e. 0, 1, 2, ..., [num_class - 1].\n",
      "  warnings.warn(label_encoder_deprecation_msg, UserWarning)\n",
      "/Users/aarjavsanghvi/opt/anaconda3/lib/python3.9/site-packages/xgboost/sklearn.py:1224: UserWarning: The use of label encoder in XGBClassifier is deprecated and will be removed in a future release. To remove this warning, do the following: 1) Pass option use_label_encoder=False when constructing XGBClassifier object; and 2) Encode your labels (y) as integers starting with 0, i.e. 0, 1, 2, ..., [num_class - 1].\n",
      "  warnings.warn(label_encoder_deprecation_msg, UserWarning)\n",
      "/Users/aarjavsanghvi/opt/anaconda3/lib/python3.9/site-packages/xgboost/sklearn.py:1224: UserWarning: The use of label encoder in XGBClassifier is deprecated and will be removed in a future release. To remove this warning, do the following: 1) Pass option use_label_encoder=False when constructing XGBClassifier object; and 2) Encode your labels (y) as integers starting with 0, i.e. 0, 1, 2, ..., [num_class - 1].\n",
      "  warnings.warn(label_encoder_deprecation_msg, UserWarning)\n",
      "/Users/aarjavsanghvi/opt/anaconda3/lib/python3.9/site-packages/xgboost/sklearn.py:1224: UserWarning: The use of label encoder in XGBClassifier is deprecated and will be removed in a future release. To remove this warning, do the following: 1) Pass option use_label_encoder=False when constructing XGBClassifier object; and 2) Encode your labels (y) as integers starting with 0, i.e. 0, 1, 2, ..., [num_class - 1].\n",
      "  warnings.warn(label_encoder_deprecation_msg, UserWarning)\n",
      "/Users/aarjavsanghvi/opt/anaconda3/lib/python3.9/site-packages/xgboost/sklearn.py:1224: UserWarning: The use of label encoder in XGBClassifier is deprecated and will be removed in a future release. To remove this warning, do the following: 1) Pass option use_label_encoder=False when constructing XGBClassifier object; and 2) Encode your labels (y) as integers starting with 0, i.e. 0, 1, 2, ..., [num_class - 1].\n",
      "  warnings.warn(label_encoder_deprecation_msg, UserWarning)\n",
      "/Users/aarjavsanghvi/opt/anaconda3/lib/python3.9/site-packages/xgboost/sklearn.py:1224: UserWarning: The use of label encoder in XGBClassifier is deprecated and will be removed in a future release. To remove this warning, do the following: 1) Pass option use_label_encoder=False when constructing XGBClassifier object; and 2) Encode your labels (y) as integers starting with 0, i.e. 0, 1, 2, ..., [num_class - 1].\n",
      "  warnings.warn(label_encoder_deprecation_msg, UserWarning)\n",
      "/Users/aarjavsanghvi/opt/anaconda3/lib/python3.9/site-packages/xgboost/sklearn.py:1224: UserWarning: The use of label encoder in XGBClassifier is deprecated and will be removed in a future release. To remove this warning, do the following: 1) Pass option use_label_encoder=False when constructing XGBClassifier object; and 2) Encode your labels (y) as integers starting with 0, i.e. 0, 1, 2, ..., [num_class - 1].\n",
      "  warnings.warn(label_encoder_deprecation_msg, UserWarning)\n",
      "/Users/aarjavsanghvi/opt/anaconda3/lib/python3.9/site-packages/xgboost/sklearn.py:1224: UserWarning: The use of label encoder in XGBClassifier is deprecated and will be removed in a future release. To remove this warning, do the following: 1) Pass option use_label_encoder=False when constructing XGBClassifier object; and 2) Encode your labels (y) as integers starting with 0, i.e. 0, 1, 2, ..., [num_class - 1].\n",
      "  warnings.warn(label_encoder_deprecation_msg, UserWarning)\n",
      "/Users/aarjavsanghvi/opt/anaconda3/lib/python3.9/site-packages/xgboost/sklearn.py:1224: UserWarning: The use of label encoder in XGBClassifier is deprecated and will be removed in a future release. To remove this warning, do the following: 1) Pass option use_label_encoder=False when constructing XGBClassifier object; and 2) Encode your labels (y) as integers starting with 0, i.e. 0, 1, 2, ..., [num_class - 1].\n",
      "  warnings.warn(label_encoder_deprecation_msg, UserWarning)\n",
      "/Users/aarjavsanghvi/opt/anaconda3/lib/python3.9/site-packages/xgboost/sklearn.py:1224: UserWarning: The use of label encoder in XGBClassifier is deprecated and will be removed in a future release. To remove this warning, do the following: 1) Pass option use_label_encoder=False when constructing XGBClassifier object; and 2) Encode your labels (y) as integers starting with 0, i.e. 0, 1, 2, ..., [num_class - 1].\n",
      "  warnings.warn(label_encoder_deprecation_msg, UserWarning)\n",
      "/Users/aarjavsanghvi/opt/anaconda3/lib/python3.9/site-packages/xgboost/sklearn.py:1224: UserWarning: The use of label encoder in XGBClassifier is deprecated and will be removed in a future release. To remove this warning, do the following: 1) Pass option use_label_encoder=False when constructing XGBClassifier object; and 2) Encode your labels (y) as integers starting with 0, i.e. 0, 1, 2, ..., [num_class - 1].\n",
      "  warnings.warn(label_encoder_deprecation_msg, UserWarning)\n"
     ]
    },
    {
     "name": "stdout",
     "output_type": "stream",
     "text": [
      "[11:05:35] WARNING: ../src/learner.cc:1115: Starting in XGBoost 1.3.0, the default evaluation metric used with the objective 'binary:logistic' was changed from 'error' to 'logloss'. Explicitly set eval_metric if you'd like to restore the old behavior.\n"
     ]
    },
    {
     "data": {
      "text/plain": [
       "RandomizedSearchCV(cv=5,\n",
       "                   estimator=XGBClassifier(base_score=None, booster=None,\n",
       "                                           colsample_bylevel=None,\n",
       "                                           colsample_bynode=None,\n",
       "                                           colsample_bytree=None,\n",
       "                                           enable_categorical=False, gamma=None,\n",
       "                                           gpu_id=None, importance_type=None,\n",
       "                                           interaction_constraints=None,\n",
       "                                           learning_rate=None,\n",
       "                                           max_delta_step=None, max_depth=None,\n",
       "                                           min_child_weight=None, missing=nan,\n",
       "                                           monotone_constraints...\n",
       "                                           reg_alpha=None, reg_lambda=None,\n",
       "                                           scale_pos_weight=None,\n",
       "                                           subsample=None, tree_method=None,\n",
       "                                           validate_parameters=None,\n",
       "                                           verbosity=None),\n",
       "                   n_iter=5, n_jobs=-1,\n",
       "                   param_distributions={'colsample_bytree': [0.3, 0.4, 0.5, 0.6,\n",
       "                                                             0.7],\n",
       "                                        'gamma': [0.0, 0.1, 0.2, 0.3, 0.4],\n",
       "                                        'learning_rate': [0.05, 0.1, 0.15, 0.2,\n",
       "                                                          0.25, 0.3],\n",
       "                                        'max_depth': [5, 6, 7, 8, 9, 10, 11, 12,\n",
       "                                                      13, 14, 15, 16, 17, 18,\n",
       "                                                      19, 20],\n",
       "                                        'min_child_weight': [1, 3, 5, 7, 9]})"
      ]
     },
     "execution_count": 47,
     "metadata": {},
     "output_type": "execute_result"
    }
   ],
   "source": [
    "random_search.fit(X_train, y_train)"
   ]
  },
  {
   "cell_type": "code",
   "execution_count": 48,
   "id": "f589ac0d",
   "metadata": {},
   "outputs": [
    {
     "data": {
      "text/plain": [
       "XGBClassifier(base_score=0.5, booster='gbtree', colsample_bylevel=1,\n",
       "              colsample_bynode=1, colsample_bytree=0.4,\n",
       "              enable_categorical=False, gamma=0.4, gpu_id=-1,\n",
       "              importance_type=None, interaction_constraints='',\n",
       "              learning_rate=0.1, max_delta_step=0, max_depth=12,\n",
       "              min_child_weight=1, missing=nan, monotone_constraints='()',\n",
       "              n_estimators=100, n_jobs=10, num_parallel_tree=1,\n",
       "              predictor='auto', random_state=0, reg_alpha=0, reg_lambda=1,\n",
       "              scale_pos_weight=1, subsample=1, tree_method='exact',\n",
       "              validate_parameters=1, verbosity=None)"
      ]
     },
     "execution_count": 48,
     "metadata": {},
     "output_type": "execute_result"
    }
   ],
   "source": [
    "random_search.best_estimator_"
   ]
  },
  {
   "cell_type": "code",
   "execution_count": 49,
   "id": "c2e951a0",
   "metadata": {},
   "outputs": [],
   "source": [
    "classifier=xgboost.XGBClassifier(base_score=0.5, booster='gbtree', colsample_bylevel=1,\n",
    "              colsample_bynode=1, colsample_bytree=0.4,\n",
    "              enable_categorical=False, gamma=0.1, gpu_id=-1,\n",
    "              importance_type=None, interaction_constraints='',\n",
    "              learning_rate=0.3, max_delta_step=0, max_depth=20,\n",
    "              min_child_weight=7, monotone_constraints='()',\n",
    "              n_estimators=100, n_jobs=4, num_parallel_tree=1, predictor='auto',\n",
    "              random_state=0, reg_alpha=0, reg_lambda=1, scale_pos_weight=1,\n",
    "              subsample=1, tree_method='exact', validate_parameters=1,\n",
    "              verbosity=None)"
   ]
  },
  {
   "cell_type": "code",
   "execution_count": 50,
   "id": "3115e44d",
   "metadata": {},
   "outputs": [
    {
     "name": "stdout",
     "output_type": "stream",
     "text": [
      "[11:07:42] WARNING: ../src/learner.cc:1115: Starting in XGBoost 1.3.0, the default evaluation metric used with the objective 'binary:logistic' was changed from 'error' to 'logloss'. Explicitly set eval_metric if you'd like to restore the old behavior.\n"
     ]
    },
    {
     "data": {
      "text/plain": [
       "XGBClassifier(base_score=0.5, booster='gbtree', colsample_bylevel=1,\n",
       "              colsample_bynode=1, colsample_bytree=0.4,\n",
       "              enable_categorical=False, gamma=0.1, gpu_id=-1,\n",
       "              importance_type=None, interaction_constraints='',\n",
       "              learning_rate=0.3, max_delta_step=0, max_depth=20,\n",
       "              min_child_weight=7, missing=nan, monotone_constraints='()',\n",
       "              n_estimators=100, n_jobs=4, num_parallel_tree=1, predictor='auto',\n",
       "              random_state=0, reg_alpha=0, reg_lambda=1, scale_pos_weight=1,\n",
       "              subsample=1, tree_method='exact', validate_parameters=1,\n",
       "              verbosity=None)"
      ]
     },
     "execution_count": 50,
     "metadata": {},
     "output_type": "execute_result"
    }
   ],
   "source": [
    "classifier.fit(X_train, y_train)"
   ]
  },
  {
   "cell_type": "code",
   "execution_count": 51,
   "id": "ea10b545",
   "metadata": {},
   "outputs": [
    {
     "name": "stdout",
     "output_type": "stream",
     "text": [
      "[[4393  300]\n",
      " [  38 4525]]\n"
     ]
    }
   ],
   "source": [
    "from sklearn.metrics import confusion_matrix\n",
    "y_pred = classifier.predict(X_valid)\n",
    "print(confusion_matrix(y_valid, y_pred))"
   ]
  },
  {
   "cell_type": "code",
   "execution_count": 52,
   "id": "2c8a1ab5",
   "metadata": {},
   "outputs": [
    {
     "name": "stdout",
     "output_type": "stream",
     "text": [
      "0.9634831460674157\n",
      "              precision    recall  f1-score   support\n",
      "\n",
      "           0       0.99      0.94      0.96      4693\n",
      "           1       0.94      0.99      0.96      4563\n",
      "\n",
      "    accuracy                           0.96      9256\n",
      "   macro avg       0.96      0.96      0.96      9256\n",
      "weighted avg       0.97      0.96      0.96      9256\n",
      "\n",
      "[11:04:23] WARNING: ../src/learner.cc:1115: Starting in XGBoost 1.3.0, the default evaluation metric used with the objective 'binary:logistic' was changed from 'error' to 'logloss'. Explicitly set eval_metric if you'd like to restore the old behavior.\n",
      "[11:05:04] WARNING: ../src/learner.cc:1115: Starting in XGBoost 1.3.0, the default evaluation metric used with the objective 'binary:logistic' was changed from 'error' to 'logloss'. Explicitly set eval_metric if you'd like to restore the old behavior.\n",
      "[11:04:23] WARNING: ../src/learner.cc:1115: Starting in XGBoost 1.3.0, the default evaluation metric used with the objective 'binary:logistic' was changed from 'error' to 'logloss'. Explicitly set eval_metric if you'd like to restore the old behavior.\n",
      "[11:05:05] WARNING: ../src/learner.cc:1115: Starting in XGBoost 1.3.0, the default evaluation metric used with the objective 'binary:logistic' was changed from 'error' to 'logloss'. Explicitly set eval_metric if you'd like to restore the old behavior.\n",
      "[11:04:23] WARNING: ../src/learner.cc:1115: Starting in XGBoost 1.3.0, the default evaluation metric used with the objective 'binary:logistic' was changed from 'error' to 'logloss'. Explicitly set eval_metric if you'd like to restore the old behavior.\n",
      "[11:05:05] WARNING: ../src/learner.cc:1115: Starting in XGBoost 1.3.0, the default evaluation metric used with the objective 'binary:logistic' was changed from 'error' to 'logloss'. Explicitly set eval_metric if you'd like to restore the old behavior.\n",
      "[11:04:23] WARNING: ../src/learner.cc:1115: Starting in XGBoost 1.3.0, the default evaluation metric used with the objective 'binary:logistic' was changed from 'error' to 'logloss'. Explicitly set eval_metric if you'd like to restore the old behavior.\n",
      "[11:05:05] WARNING: ../src/learner.cc:1115: Starting in XGBoost 1.3.0, the default evaluation metric used with the objective 'binary:logistic' was changed from 'error' to 'logloss'. Explicitly set eval_metric if you'd like to restore the old behavior.\n",
      "[11:04:23] WARNING: ../src/learner.cc:1115: Starting in XGBoost 1.3.0, the default evaluation metric used with the objective 'binary:logistic' was changed from 'error' to 'logloss'. Explicitly set eval_metric if you'd like to restore the old behavior.\n",
      "[11:05:05] WARNING: ../src/learner.cc:1115: Starting in XGBoost 1.3.0, the default evaluation metric used with the objective 'binary:logistic' was changed from 'error' to 'logloss'. Explicitly set eval_metric if you'd like to restore the old behavior.\n",
      "[11:04:23] WARNING: ../src/learner.cc:1115: Starting in XGBoost 1.3.0, the default evaluation metric used with the objective 'binary:logistic' was changed from 'error' to 'logloss'. Explicitly set eval_metric if you'd like to restore the old behavior.\n",
      "[11:04:51] WARNING: ../src/learner.cc:1115: Starting in XGBoost 1.3.0, the default evaluation metric used with the objective 'binary:logistic' was changed from 'error' to 'logloss'. Explicitly set eval_metric if you'd like to restore the old behavior.\n",
      "[11:05:15] WARNING: ../src/learner.cc:1115: Starting in XGBoost 1.3.0, the default evaluation metric used with the objective 'binary:logistic' was changed from 'error' to 'logloss'. Explicitly set eval_metric if you'd like to restore the old behavior.\n",
      "[11:04:23] WARNING: ../src/learner.cc:1115: Starting in XGBoost 1.3.0, the default evaluation metric used with the objective 'binary:logistic' was changed from 'error' to 'logloss'. Explicitly set eval_metric if you'd like to restore the old behavior.\n",
      "[11:04:51] WARNING: ../src/learner.cc:1115: Starting in XGBoost 1.3.0, the default evaluation metric used with the objective 'binary:logistic' was changed from 'error' to 'logloss'. Explicitly set eval_metric if you'd like to restore the old behavior.\n",
      "[11:05:15] WARNING: ../src/learner.cc:1115: Starting in XGBoost 1.3.0, the default evaluation metric used with the objective 'binary:logistic' was changed from 'error' to 'logloss'. Explicitly set eval_metric if you'd like to restore the old behavior.\n",
      "[11:04:23] WARNING: ../src/learner.cc:1115: Starting in XGBoost 1.3.0, the default evaluation metric used with the objective 'binary:logistic' was changed from 'error' to 'logloss'. Explicitly set eval_metric if you'd like to restore the old behavior.\n",
      "[11:04:51] WARNING: ../src/learner.cc:1115: Starting in XGBoost 1.3.0, the default evaluation metric used with the objective 'binary:logistic' was changed from 'error' to 'logloss'. Explicitly set eval_metric if you'd like to restore the old behavior.\n",
      "[11:05:16] WARNING: ../src/learner.cc:1115: Starting in XGBoost 1.3.0, the default evaluation metric used with the objective 'binary:logistic' was changed from 'error' to 'logloss'. Explicitly set eval_metric if you'd like to restore the old behavior.\n",
      "[11:04:23] WARNING: ../src/learner.cc:1115: Starting in XGBoost 1.3.0, the default evaluation metric used with the objective 'binary:logistic' was changed from 'error' to 'logloss'. Explicitly set eval_metric if you'd like to restore the old behavior.\n",
      "[11:04:51] WARNING: ../src/learner.cc:1115: Starting in XGBoost 1.3.0, the default evaluation metric used with the objective 'binary:logistic' was changed from 'error' to 'logloss'. Explicitly set eval_metric if you'd like to restore the old behavior.\n",
      "[11:05:15] WARNING: ../src/learner.cc:1115: Starting in XGBoost 1.3.0, the default evaluation metric used with the objective 'binary:logistic' was changed from 'error' to 'logloss'. Explicitly set eval_metric if you'd like to restore the old behavior.\n",
      "[11:04:23] WARNING: ../src/learner.cc:1115: Starting in XGBoost 1.3.0, the default evaluation metric used with the objective 'binary:logistic' was changed from 'error' to 'logloss'. Explicitly set eval_metric if you'd like to restore the old behavior.\n",
      "[11:04:51] WARNING: ../src/learner.cc:1115: Starting in XGBoost 1.3.0, the default evaluation metric used with the objective 'binary:logistic' was changed from 'error' to 'logloss'. Explicitly set eval_metric if you'd like to restore the old behavior.\n",
      "[11:05:15] WARNING: ../src/learner.cc:1115: Starting in XGBoost 1.3.0, the default evaluation metric used with the objective 'binary:logistic' was changed from 'error' to 'logloss'. Explicitly set eval_metric if you'd like to restore the old behavior.\n"
     ]
    }
   ],
   "source": [
    "from sklearn.metrics import accuracy_score, classification_report\n",
    "print(accuracy_score(y_valid, y_pred))\n",
    "print(classification_report(y_valid, y_pred))"
   ]
  }
 ],
 "metadata": {
  "kernelspec": {
   "display_name": "Python 3 (ipykernel)",
   "language": "python",
   "name": "python3"
  },
  "language_info": {
   "codemirror_mode": {
    "name": "ipython",
    "version": 3
   },
   "file_extension": ".py",
   "mimetype": "text/x-python",
   "name": "python",
   "nbconvert_exporter": "python",
   "pygments_lexer": "ipython3",
   "version": "3.9.7"
  }
 },
 "nbformat": 4,
 "nbformat_minor": 5
}
